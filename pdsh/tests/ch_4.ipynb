{
 "cells": [
  {
   "cell_type": "markdown",
   "metadata": {},
   "source": [
    "## Understanding Data Types in Python\n",
    "\n",
    "In this chapter we will learn about the data types and how it is used inside `numpy`.\n",
    "\n",
    "### Creating Arrays from Python Lists\n",
    "\n",
    "In this section we will undestanding what is arrays in `numpy` and how to create them.\n",
    "\n",
    "First of all, we have to import `numpy`:"
   ]
  },
  {
   "cell_type": "code",
   "execution_count": 18,
   "metadata": {},
   "outputs": [],
   "source": [
    "import numpy as np"
   ]
  },
  {
   "cell_type": "markdown",
   "metadata": {},
   "source": [
    "Now we can create an array from a python list:"
   ]
  },
  {
   "cell_type": "code",
   "execution_count": 19,
   "metadata": {},
   "outputs": [
    {
     "name": "stdout",
     "output_type": "stream",
     "text": [
      "[3.14 4.   3.   2.  ]\n"
     ]
    }
   ],
   "source": [
    "array_1 = np.array([3.14, 4, 3, 2])\n",
    "\n",
    "print(array_1)"
   ]
  },
  {
   "cell_type": "markdown",
   "metadata": {},
   "source": [
    "And we can explicitly specify the array type:"
   ]
  },
  {
   "cell_type": "code",
   "execution_count": 20,
   "metadata": {},
   "outputs": [
    {
     "name": "stdout",
     "output_type": "stream",
     "text": [
      "['hello' ',' 'world']\n"
     ]
    }
   ],
   "source": [
    "array_2 = np.array([\"hello\", \",\", \"world\"], dtype = np.str_)\n",
    "\n",
    "print(array_2)"
   ]
  },
  {
   "cell_type": "markdown",
   "metadata": {},
   "source": [
    "We can create a n-dimensional array with numpy:"
   ]
  },
  {
   "cell_type": "code",
   "execution_count": 21,
   "metadata": {},
   "outputs": [
    {
     "name": "stdout",
     "output_type": "stream",
     "text": [
      "[[0 1 2 3]\n",
      " [0 1 2 3]\n",
      " [0 1 2 3]]\n"
     ]
    }
   ],
   "source": [
    "array_3 = np.array([range(0, 4) for i in range(1, 4)])\n",
    "\n",
    "print(array_3)"
   ]
  },
  {
   "cell_type": "markdown",
   "metadata": {},
   "source": [
    "### Creating Arrays from Scratch\n",
    "\n",
    "Now we will create numpy arrays from scratch.\n",
    "\n",
    "For a given length array filled with zeros:"
   ]
  },
  {
   "cell_type": "code",
   "execution_count": 22,
   "metadata": {},
   "outputs": [
    {
     "name": "stdout",
     "output_type": "stream",
     "text": [
      "[0 0 0 0 0 0 0 0 0 0 0 0 0 0 0 0 0 0 0 0]\n"
     ]
    }
   ],
   "source": [
    "array_4 = np.zeros(20, dtype = int)\n",
    "\n",
    "print(array_4)"
   ]
  },
  {
   "cell_type": "markdown",
   "metadata": {},
   "source": [
    "For an array filled with ones"
   ]
  },
  {
   "cell_type": "code",
   "execution_count": 23,
   "metadata": {},
   "outputs": [
    {
     "name": "stdout",
     "output_type": "stream",
     "text": [
      "[[0. 0. 0. 0.]\n",
      " [0. 0. 0. 0.]\n",
      " [0. 0. 0. 0.]]\n"
     ]
    }
   ],
   "source": [
    "array_5 = np.zeros((3, 4), dtype = \"float128\")\n",
    "\n",
    "print(array_5)"
   ]
  },
  {
   "cell_type": "markdown",
   "metadata": {},
   "source": [
    "For an array filled with given value:"
   ]
  },
  {
   "cell_type": "code",
   "execution_count": 24,
   "metadata": {},
   "outputs": [
    {
     "name": "stdout",
     "output_type": "stream",
     "text": [
      "[[opa: some_21 opa: some_52 opa: some_5 opa: some_75]\n",
      " [opa: some_96 opa: some_15 opa: some_63 opa: some_33]\n",
      " [opa: some_70 opa: some_93 opa: some_90 opa: some_61]]\n"
     ]
    }
   ],
   "source": [
    "from random import randint\n",
    "\n",
    "class opa:\n",
    "    def __init__(self, name):\n",
    "        self.name = name\n",
    "    \n",
    "    def __repr__(self):\n",
    "        return f\"opa: {self.name}_{randint(1, 100)}\"\n",
    "\n",
    "array_6 = np.full((3, 4), opa(\"some\"))\n",
    "\n",
    "print(array_6)"
   ]
  },
  {
   "cell_type": "markdown",
   "metadata": {},
   "source": [
    "For an array from range:"
   ]
  },
  {
   "cell_type": "code",
   "execution_count": 25,
   "metadata": {},
   "outputs": [
    {
     "name": "stdout",
     "output_type": "stream",
     "text": [
      "[0.  0.1]\n"
     ]
    }
   ],
   "source": [
    "array_7 = np.arange(0, 0.11, 0.1)\n",
    "\n",
    "print(array_7)"
   ]
  },
  {
   "cell_type": "markdown",
   "metadata": {},
   "source": [
    "For an array with k values uniformly distributed inside interval $[a, b]$:"
   ]
  },
  {
   "cell_type": "code",
   "execution_count": 26,
   "metadata": {},
   "outputs": [
    {
     "name": "stdout",
     "output_type": "stream",
     "text": [
      "[0.         0.02564103 0.05128205 0.07692308 0.1025641  0.12820513\n",
      " 0.15384615 0.17948718 0.20512821 0.23076923 0.25641026 0.28205128\n",
      " 0.30769231 0.33333333 0.35897436 0.38461538 0.41025641 0.43589744\n",
      " 0.46153846 0.48717949 0.51282051 0.53846154 0.56410256 0.58974359\n",
      " 0.61538462 0.64102564 0.66666667 0.69230769 0.71794872 0.74358974\n",
      " 0.76923077 0.79487179 0.82051282 0.84615385 0.87179487 0.8974359\n",
      " 0.92307692 0.94871795 0.97435897 1.        ]\n"
     ]
    }
   ],
   "source": [
    "array_8 = np.linspace(0, 1, 40)\n",
    "\n",
    "print(array_8)"
   ]
  },
  {
   "cell_type": "markdown",
   "metadata": {},
   "source": [
    "For an array with pseudorandom numbers:"
   ]
  },
  {
   "cell_type": "code",
   "execution_count": 27,
   "metadata": {},
   "outputs": [
    {
     "name": "stdout",
     "output_type": "stream",
     "text": [
      "[[[[0.87032076 0.33200128]]]]\n"
     ]
    }
   ],
   "source": [
    "array_9 = np.random.random((1, 1, 1, 2))\n",
    "\n",
    "print(array_9)"
   ]
  },
  {
   "cell_type": "markdown",
   "metadata": {},
   "source": [
    "For an array with pseudorandom numbers with mean 0 and stardar deviation 1:"
   ]
  },
  {
   "cell_type": "code",
   "execution_count": 28,
   "metadata": {},
   "outputs": [
    {
     "name": "stdout",
     "output_type": "stream",
     "text": [
      "0.00048409565144285423\n",
      "0.0008994842111167412\n"
     ]
    }
   ],
   "source": [
    "array_10 = np.random.normal(0, 1, 1000000)\n",
    "\n",
    "m = np.mean(array_10)\n",
    "s = np.std(array_10)\n",
    "\n",
    "# print(array_10)\n",
    "print(abs(0.0 - m))\n",
    "print(abs(1.0 - s))"
   ]
  },
  {
   "cell_type": "markdown",
   "metadata": {},
   "source": [
    "For an array with pseudorandom integers in interval $[0, 19]$:"
   ]
  },
  {
   "cell_type": "code",
   "execution_count": 29,
   "metadata": {},
   "outputs": [
    {
     "name": "stdout",
     "output_type": "stream",
     "text": [
      "[ 17  23  17 -20 -28  43  24 -19  -4  -8 -12  12  40  12 -25 -19  40 -15\n",
      "  -6  33  28  31  15 -10  28  19  42  11   0   6  41  -9   8   9  17  42\n",
      "  11  41  17   4   2 -30  28  25  42  25  42 -14   5  42]\n"
     ]
    }
   ],
   "source": [
    "array_11 = np.random.randint(-33, 45, 50)\n",
    "\n",
    "print(array_11)"
   ]
  },
  {
   "cell_type": "markdown",
   "metadata": {},
   "source": [
    "For a 4x4 identity matrix:"
   ]
  },
  {
   "cell_type": "code",
   "execution_count": 30,
   "metadata": {},
   "outputs": [
    {
     "name": "stdout",
     "output_type": "stream",
     "text": [
      "[[1. 0. 0. 0.]\n",
      " [0. 1. 0. 0.]\n",
      " [0. 0. 1. 0.]\n",
      " [0. 0. 0. 1.]]\n"
     ]
    }
   ],
   "source": [
    "array_12 = np.eye(4)\n",
    "\n",
    "print(array_12)"
   ]
  },
  {
   "cell_type": "markdown",
   "metadata": {},
   "source": [
    "For a empty array (with trash in elements):"
   ]
  },
  {
   "cell_type": "code",
   "execution_count": 31,
   "metadata": {},
   "outputs": [
    {
     "name": "stdout",
     "output_type": "stream",
     "text": [
      "[4.64437592e-310 0.00000000e+000 0.00000000e+000 0.00000000e+000\n",
      " 6.91112809e-310 8.69891861e-043 2.14338399e+184 5.02677779e-091\n",
      " 1.72171538e+184 6.91117137e-310]\n"
     ]
    }
   ],
   "source": [
    "array_13 = np.empty(10)\n",
    "\n",
    "print(array_13)"
   ]
  },
  {
   "cell_type": "markdown",
   "metadata": {},
   "source": [
    "### NumPy Standard Data Types\n",
    "\n",
    "The numpy arrays contain values of single type, based on `C` types:"
   ]
  },
  {
   "cell_type": "code",
   "execution_count": 32,
   "metadata": {},
   "outputs": [
    {
     "name": "stdout",
     "output_type": "stream",
     "text": [
      "[0 0 0 0 0 0 0 0 0 0]\n"
     ]
    }
   ],
   "source": [
    "array_14 = np.zeros(10, dtype=\"uint32\")\n",
    "\n",
    "print(array_14)"
   ]
  },
  {
   "cell_type": "markdown",
   "metadata": {},
   "source": [
    "are the same that:"
   ]
  },
  {
   "cell_type": "code",
   "execution_count": 33,
   "metadata": {},
   "outputs": [
    {
     "name": "stdout",
     "output_type": "stream",
     "text": [
      "[0 0 0 0 0 0 0 0 0 0]\n"
     ]
    }
   ],
   "source": [
    "array_15 = np.zeros(10, dtype = np.uint32)\n",
    "\n",
    "print(array_15)"
   ]
  },
  {
   "cell_type": "markdown",
   "metadata": {},
   "source": [
    "For more details, access the numpy documentation [NumPy Documentation](https://numpy.org/)"
   ]
  }
 ],
 "metadata": {
  "kernelspec": {
   "display_name": "Python 3",
   "language": "python",
   "name": "python3"
  },
  "language_info": {
   "codemirror_mode": {
    "name": "ipython",
    "version": 3
   },
   "file_extension": ".py",
   "mimetype": "text/x-python",
   "name": "python",
   "nbconvert_exporter": "python",
   "pygments_lexer": "ipython3",
   "version": "3.13.1"
  }
 },
 "nbformat": 4,
 "nbformat_minor": 2
}
