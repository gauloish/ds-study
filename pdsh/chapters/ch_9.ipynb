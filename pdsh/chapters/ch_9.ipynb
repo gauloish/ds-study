{
 "cells": [
  {
   "cell_type": "markdown",
   "metadata": {},
   "source": [
    "## Comparisons, Masks, and Boolean Logic\n",
    "\n",
    "In this chapter we will learn about comparisons, masks and boolean logic in numpy.\n",
    "\n",
    "### Comparison Operators as Ufuncs\n",
    "\n",
    "In the other chapter we was introduced for the arithmetic operators, like `+`, `-`, `*` and `/`. Now, we will learn about comparison operators:"
   ]
  },
  {
   "cell_type": "code",
   "execution_count": 2,
   "metadata": {},
   "outputs": [
    {
     "name": "stdout",
     "output_type": "stream",
     "text": [
      "a:      [1 2 3 4 5]\n",
      "a < 3:  [ True  True False False False]\n",
      "a > 3:  [False False False  True  True]\n",
      "a <= 3: [ True  True  True False False]\n",
      "a >= 3: [False False  True  True  True]\n",
      "a == 3: [False False  True False False]\n",
      "a != 3: [ True  True False  True  True]\n"
     ]
    }
   ],
   "source": [
    "import numpy as np\n",
    "\n",
    "a = np.array([1, 2, 3, 4, 5])\n",
    "\n",
    "print(f\"a:      {a}\")\n",
    "print(f\"a < 3:  {a < 3}\")\n",
    "print(f\"a > 3:  {a > 3}\")\n",
    "print(f\"a <= 3: {a <= 3}\")\n",
    "print(f\"a >= 3: {a >= 3}\")\n",
    "print(f\"a == 3: {a == 3}\")\n",
    "print(f\"a != 3: {a != 3}\")"
   ]
  },
  {
   "cell_type": "markdown",
   "metadata": {},
   "source": [
    "This comparisons also works with multi-dimensional arrays. Moreover, each comparison operator has an equivalent ufunc, as seen below:\n",
    "\n",
    "| Operator | Equivalent ufunc | Operator | Equivalent ufunc |\n",
    "| :-: | :- | :-: | :- |\n",
    "| == | np.equal | != | np.not_equal |\n",
    "| < | np.less | <= | np.less_equal |\n",
    "| > | np.greater | >= | np.greater_equal |\n",
    "\n",
    "### Working with Boolean Arrays\n",
    "\n",
    "As seen above, the comparison operators returns boolean arrays, and we can use this for perform some operations.\n",
    "\n",
    "#### Counting Entries\n",
    "\n",
    "For count the number of `True` values in an arrayn, we can use the `no.count_nonzero()` function:"
   ]
  },
  {
   "cell_type": "code",
   "execution_count": 16,
   "metadata": {},
   "outputs": [
    {
     "name": "stdout",
     "output_type": "stream",
     "text": [
      "array: \n",
      "[[ 1  2  3  4]\n",
      " [ 5  6  7  8]\n",
      " [ 9 10 11 12]]\n",
      "\n",
      "numbers less than 7: 6\n"
     ]
    }
   ],
   "source": [
    "a = np.arange(1, 13).reshape(3, 4)\n",
    "\n",
    "print(f\"array: \\n{a}\\n\")\n",
    "print(f\"numbers less than 7: {np.count_nonzero(a < 7)}\")"
   ]
  },
  {
   "cell_type": "markdown",
   "metadata": {},
   "source": [
    "Another way to do this is using the `np.sum()` function, because `False` is interpreted as `0` and `True` is interpreted as `1` by the function:"
   ]
  },
  {
   "cell_type": "code",
   "execution_count": 14,
   "metadata": {},
   "outputs": [
    {
     "name": "stdout",
     "output_type": "stream",
     "text": [
      "array: \n",
      "[[ 1  2  3  4]\n",
      " [ 5  6  7  8]\n",
      " [ 9 10 11 12]\n",
      " [13 14 15 16]]\n",
      "\n",
      "numbers less than 7: 6\n"
     ]
    }
   ],
   "source": [
    "print(f\"array: \\n{a}\\n\")\n",
    "print(f\"numbers less than 7: {np.sum(a < 7)}\")"
   ]
  },
  {
   "cell_type": "markdown",
   "metadata": {},
   "source": [
    "For check whether any or all the values are `True`, we can use the functions `np.any()` and `np.all()`:"
   ]
  },
  {
   "cell_type": "code",
   "execution_count": 23,
   "metadata": {},
   "outputs": [
    {
     "name": "stdout",
     "output_type": "stream",
     "text": [
      "True\n",
      "False\n",
      "False\n",
      "True\n"
     ]
    }
   ],
   "source": [
    "print(np.any(a < 7))\n",
    "print(np.any(a > 12))\n",
    "print(np.all(a < 12))\n",
    "print(np.all(a <= 12))"
   ]
  },
  {
   "cell_type": "markdown",
   "metadata": {},
   "source": [
    "These functions have the `axis` argument.\n",
    "\n",
    "#### Boolean Operators\n",
    "\n",
    "The comparison operators returns boolean arrays and the numpy implements boolean operators for the boolean arrays:"
   ]
  },
  {
   "cell_type": "code",
   "execution_count": 6,
   "metadata": {},
   "outputs": [
    {
     "name": "stdout",
     "output_type": "stream",
     "text": [
      "[ True  True False False  True]\n",
      "[False False  True False False]\n",
      "[ True False  True  True  True]\n"
     ]
    }
   ],
   "source": [
    "a = np.arange(1, 6)\n",
    "b = np.arange(3, 8)\n",
    "\n",
    "print((a < 3) | (a > 4))\n",
    "print((a > 2) & (a < 4))\n",
    "print(~(a == 2))"
   ]
  },
  {
   "cell_type": "markdown",
   "metadata": {},
   "source": [
    "The boolean operators have relatable ufuncs:\n",
    "\n",
    "| Operator | Equivalent ufunc |\n",
    "| :-: | :- |\n",
    "| & | np.bitwise_and |\n",
    "| \\| | np.bitwise_or |\n",
    "| ^ | np.bitwise_xor |\n",
    "| ~ | np.bitwise_not |\n",
    "\n",
    "### Boolean Arrays as Masks\n",
    "\n",
    "When we create a boolean array, we also create a boolean mask that can be used to get some subset of other array by indexing:"
   ]
  },
  {
   "cell_type": "code",
   "execution_count": 13,
   "metadata": {},
   "outputs": [
    {
     "name": "stdout",
     "output_type": "stream",
     "text": [
      "array: \n",
      "[[ 1  2  3  4]\n",
      " [ 5  6  7  8]\n",
      " [ 9 10 11 12]\n",
      " [13 14 15 16]]\n",
      "\n",
      "even numbers: \n",
      "[ 2  4  6  8 10 12 14 16]\n",
      "\n"
     ]
    }
   ],
   "source": [
    "a = np.arange(1, 17).reshape(4, 4)\n",
    "mask = ((a % 2) == 0)\n",
    "\n",
    "print(f\"array: \\n{a}\\n\")\n",
    "print(f\"even numbers: \\n{a[mask]}\\n\")"
   ]
  },
  {
   "cell_type": "code",
   "execution_count": 12,
   "metadata": {},
   "outputs": [
    {
     "name": "stdout",
     "output_type": "stream",
     "text": [
      "array: \n",
      "[[ 1  2  3  4  5  6]\n",
      " [ 7  8  9 10 11 12]\n",
      " [13 14 15 16 17 18]\n",
      " [19 20 21 22 23 24]\n",
      " [25 26 27 28 29 30]]\n",
      "\n",
      "numbers divided by 3 or 5: \n",
      "[ 3  5  6  9 10 12 15 18 20 21 24 25 27 30]\n",
      "\n"
     ]
    }
   ],
   "source": [
    "a = np.arange(1, 31).reshape(5, 6)\n",
    "mask = ((a % 3) == 0) | ((a % 5) == 0)\n",
    "\n",
    "print(f\"array: \\n{a}\\n\")\n",
    "print(f\"numbers divided by 3 or 5: \\n{a[mask]}\\n\")"
   ]
  }
 ],
 "metadata": {
  "kernelspec": {
   "display_name": "Python 3",
   "language": "python",
   "name": "python3"
  },
  "language_info": {
   "codemirror_mode": {
    "name": "ipython",
    "version": 3
   },
   "file_extension": ".py",
   "mimetype": "text/x-python",
   "name": "python",
   "nbconvert_exporter": "python",
   "pygments_lexer": "ipython3",
   "version": "3.13.1"
  }
 },
 "nbformat": 4,
 "nbformat_minor": 2
}
