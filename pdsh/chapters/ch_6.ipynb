{
 "cells": [
  {
   "cell_type": "markdown",
   "metadata": {},
   "source": [
    "## Computation on NumPy Arrays: Universal Functions\n",
    "\n",
    "In this section we will learn about universal functions. These functions are much more fast than stardar python and provides an interface to do the computations very fast with python\n",
    "\n",
    "### The Slowness of Loops\n",
    "\n",
    "How we know, python is slow. For example, the code below compute the reciprocals of an array with one million elements and it spend approximately 217 ms for run. "
   ]
  },
  {
   "cell_type": "code",
   "execution_count": 1,
   "metadata": {},
   "outputs": [
    {
     "name": "stdout",
     "output_type": "stream",
     "text": [
      "215 ms ± 498 μs per loop (mean ± std. dev. of 7 runs, 1 loop each)\n"
     ]
    }
   ],
   "source": [
    "import numpy as np\n",
    "\n",
    "def compute_reciprocals(values: np.ndarray) -> np.ndarray:\n",
    "    output = np.zeros(len(values))\n",
    "\n",
    "    for i in range(0, len(values)):\n",
    "        output[i] = 1.0 / values[i]\n",
    "    \n",
    "    return output\n",
    "\n",
    "values = np.random.random(1_000_000)\n",
    "\n",
    "%timeit compute_reciprocals(values)"
   ]
  },
  {
   "cell_type": "markdown",
   "metadata": {},
   "source": [
    "But the same code in C run in 0.512 ms, approximately."
   ]
  },
  {
   "cell_type": "code",
   "execution_count": 13,
   "metadata": {},
   "outputs": [
    {
     "name": "stdout",
     "output_type": "stream",
     "text": [
      "509 μs ± 973 ns per loop (mean ± std. dev. of 7 runs, 1,000 loops each)\n"
     ]
    }
   ],
   "source": [
    "from subprocess import run\n",
    "\n",
    "comp = [\n",
    "    \"gcc\", \n",
    "    \"../codes/ch_6_code_1.c\",\n",
    "    \"-o\",\n",
    "    \"../codes/main\",\n",
    "    \"-O2\",\n",
    "]\n",
    "\n",
    "exec = [\"./../codes/main\"]\n",
    "\n",
    "run(comp)\n",
    "\n",
    "%timeit run(exec)"
   ]
  },
  {
   "cell_type": "markdown",
   "metadata": {},
   "source": [
    "In other words, in this example the python code is 423x more slow than C code. For solve this we can use the NumPy's universal functions (ufuncs).\n",
    "\n",
    "### Introducing Ufuncs\n",
    "\n",
    "We can ***vectorize*** the `compute_reciprocals()` function with numpy:"
   ]
  },
  {
   "cell_type": "code",
   "execution_count": null,
   "metadata": {},
   "outputs": [
    {
     "name": "stdout",
     "output_type": "stream",
     "text": [
      "1.03 ms ± 9.72 μs per loop (mean ± std. dev. of 7 runs, 1,000 loops each)\n"
     ]
    }
   ],
   "source": [
    "def vectorized_compute_reciprocals(values: np.ndarray) -> np.ndarray:\n",
    "    return 1.0 / values\n",
    "\n",
    "%timeit vectorized_compute_reciprocals(values)"
   ]
  },
  {
   "cell_type": "markdown",
   "metadata": {},
   "source": [
    "> So, our code go from ~217ms to 1ms like magic!\n",
    "\n",
    "The vectorizarion is implemented via ufuncs, whose purpose is execute repeated operations on values of arrays. In the last example we saw an operation between a scalar and an array, but we can also operate between two arrays:"
   ]
  },
  {
   "cell_type": "code",
   "execution_count": 14,
   "metadata": {},
   "outputs": [
    {
     "data": {
      "text/plain": [
       "array([0.33333333, 0.5       , 0.6       , 0.66666667])"
      ]
     },
     "execution_count": 14,
     "metadata": {},
     "output_type": "execute_result"
    }
   ],
   "source": [
    "np.arange(1, 5) / np.arange(3, 7)"
   ]
  },
  {
   "cell_type": "markdown",
   "metadata": {},
   "source": [
    "And the operations can be did with multidimensional arrays:"
   ]
  },
  {
   "cell_type": "code",
   "execution_count": 17,
   "metadata": {},
   "outputs": [
    {
     "data": {
      "text/plain": [
       "array([[ 0,  1,  4],\n",
       "       [ 9, 16, 25],\n",
       "       [36, 49, 64]])"
      ]
     },
     "execution_count": 17,
     "metadata": {},
     "output_type": "execute_result"
    }
   ],
   "source": [
    "np.arange(9).reshape(3, 3) ** 2"
   ]
  },
  {
   "cell_type": "markdown",
   "metadata": {},
   "source": [
    "### Exploring NumPy’s Ufuncs\n",
    "\n",
    "Ufuncs exist in two flavors: *unary ufuncs* (unary operation) and *bynary ufuncs* (binary operations). We will see some examples of them.\n",
    "\n",
    "#### Array Arithmetic"
   ]
  }
 ],
 "metadata": {
  "kernelspec": {
   "display_name": "Python 3",
   "language": "python",
   "name": "python3"
  },
  "language_info": {
   "codemirror_mode": {
    "name": "ipython",
    "version": 3
   },
   "file_extension": ".py",
   "mimetype": "text/x-python",
   "name": "python",
   "nbconvert_exporter": "python",
   "pygments_lexer": "ipython3",
   "version": "3.13.1"
  }
 },
 "nbformat": 4,
 "nbformat_minor": 2
}
