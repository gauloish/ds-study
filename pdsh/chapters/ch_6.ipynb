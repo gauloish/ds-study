{
 "cells": [
  {
   "cell_type": "markdown",
   "metadata": {},
   "source": [
    "## Computation on NumPy Arrays: Universal Functions\n",
    "\n",
    "In this section we will learn about universal functions. These functions are much more fast than stardar python and provides an interface to do the computations very fast with python\n",
    "\n",
    "### The Slowness of Loops\n",
    "\n",
    "How we know, python is slow. For example, the code below compute the reciprocals of an array with one million elements and it spend approximately 214 ms for run. "
   ]
  },
  {
   "cell_type": "code",
   "execution_count": 47,
   "metadata": {},
   "outputs": [
    {
     "name": "stdout",
     "output_type": "stream",
     "text": [
      "214 ms ± 92.8 μs per loop (mean ± std. dev. of 7 runs, 1 loop each)\n"
     ]
    }
   ],
   "source": [
    "import numpy as np\n",
    "\n",
    "def compute_reciprocals(values: np.ndarray) -> np.ndarray:\n",
    "    output = np.zeros(len(values))\n",
    "\n",
    "    for i in range(0, len(values)):\n",
    "        output[i] = 1.0 / values[i]\n",
    "    \n",
    "    return output\n",
    "\n",
    "values = np.random.random(1_000_000)\n",
    "\n",
    "%timeit compute_reciprocals(values)"
   ]
  },
  {
   "cell_type": "markdown",
   "metadata": {},
   "source": [
    "But the same code in C run in 0.504 ms, approximately."
   ]
  },
  {
   "cell_type": "code",
   "execution_count": 48,
   "metadata": {},
   "outputs": [
    {
     "name": "stdout",
     "output_type": "stream",
     "text": [
      "504 μs ± 2.44 μs per loop (mean ± std. dev. of 7 runs, 1,000 loops each)\n"
     ]
    }
   ],
   "source": [
    "from subprocess import run\n",
    "\n",
    "comp = [\n",
    "    \"gcc\", \n",
    "    \"../codes/ch_6_code_1.c\",\n",
    "    \"-o\",\n",
    "    \"../codes/main\",\n",
    "    \"-O2\",\n",
    "]\n",
    "\n",
    "exec = [\"./../codes/main\"]\n",
    "\n",
    "run(comp)\n",
    "\n",
    "%timeit run(exec)"
   ]
  },
  {
   "cell_type": "markdown",
   "metadata": {},
   "source": [
    "In other words, in this example the python code is 424x more slow than C code. For solve this we can use the NumPy's universal functions (ufuncs).\n",
    "\n",
    "### Introducing Ufuncs\n",
    "\n",
    "We can ***vectorize*** the `compute_reciprocals()` function with numpy:"
   ]
  },
  {
   "cell_type": "code",
   "execution_count": 49,
   "metadata": {},
   "outputs": [
    {
     "name": "stdout",
     "output_type": "stream",
     "text": [
      "1.1 ms ± 53.1 μs per loop (mean ± std. dev. of 7 runs, 1,000 loops each)\n"
     ]
    }
   ],
   "source": [
    "def vectorized_compute_reciprocals(values: np.ndarray) -> np.ndarray:\n",
    "    return 1.0 / values\n",
    "\n",
    "%timeit vectorized_compute_reciprocals(values)"
   ]
  },
  {
   "cell_type": "markdown",
   "metadata": {},
   "source": [
    "> So, our code go from ~217ms to ~1.1ms like magic!\n",
    "\n",
    "The vectorizarion is implemented via ufuncs, whose purpose is execute repeated operations on values of arrays. In the last example we saw an operation between a scalar and an array, but we can also operate between two arrays:"
   ]
  },
  {
   "cell_type": "code",
   "execution_count": 50,
   "metadata": {},
   "outputs": [
    {
     "data": {
      "text/plain": [
       "array([0.33333333, 0.5       , 0.6       , 0.66666667])"
      ]
     },
     "execution_count": 50,
     "metadata": {},
     "output_type": "execute_result"
    }
   ],
   "source": [
    "np.arange(1, 5) / np.arange(3, 7)"
   ]
  },
  {
   "cell_type": "markdown",
   "metadata": {},
   "source": [
    "And the operations can be did with multidimensional arrays:"
   ]
  },
  {
   "cell_type": "code",
   "execution_count": 51,
   "metadata": {},
   "outputs": [
    {
     "data": {
      "text/plain": [
       "array([[ 0,  1,  4],\n",
       "       [ 9, 16, 25],\n",
       "       [36, 49, 64]])"
      ]
     },
     "execution_count": 51,
     "metadata": {},
     "output_type": "execute_result"
    }
   ],
   "source": [
    "np.arange(9).reshape(3, 3) ** 2"
   ]
  },
  {
   "cell_type": "markdown",
   "metadata": {},
   "source": [
    "### Exploring NumPy’s Ufuncs\n",
    "\n",
    "Ufuncs exist in two flavors: *unary ufuncs* (unary operation) and *bynary ufuncs* (binary operations). We will see some examples of them.\n",
    "\n",
    "#### Array Arithmetic\n",
    "\n",
    "The vectorization able to operate numpy arrays like numbers, with the common operations:"
   ]
  },
  {
   "cell_type": "code",
   "execution_count": 52,
   "metadata": {},
   "outputs": [
    {
     "name": "stdout",
     "output_type": "stream",
     "text": [
      "a1      = [1 2 3 4 5]\n",
      "a1 + 3  = [4 5 6 7 8]\n",
      "a1 - 3  = [-2 -1  0  1  2]\n",
      "a1 * 3  = [ 3  6  9 12 15]\n",
      "a1 / 3  = [0.33333333 0.66666667 1.         1.33333333 1.66666667]\n",
      "a1 % 3  = [1 2 0 1 2]\n",
      "a1 ** 3 = [  1   8  27  64 125]\n"
     ]
    }
   ],
   "source": [
    "a1 = np.arange(1, 6)\n",
    "\n",
    "print(f\"a1      = {a1}\")\n",
    "print(f\"a1 + 3  = {a1 + 3}\")\n",
    "print(f\"a1 - 3  = {a1 - 3}\")\n",
    "print(f\"a1 * 3  = {a1 * 3}\")\n",
    "print(f\"a1 / 3  = {a1 / 3}\")\n",
    "print(f\"a1 % 3  = {a1 % 3}\")\n",
    "print(f\"a1 ** 3 = {a1 ** 3}\")"
   ]
  },
  {
   "cell_type": "markdown",
   "metadata": {},
   "source": [
    "And numpy have some functions for this operations:\n",
    "\n",
    "| **Operator** | **Function** | **Description** |\n",
    "| :-: | :- | :- |\n",
    "| + | np.add | Addition |\n",
    "| - | np.subtract | Subtraction |\n",
    "| - | np.negative | Unary negation |\n",
    "| * | np.multiply | Multiplication |\n",
    "| / | np.divide | Division |\n",
    "| // | np.floor_divide | Floor division |\n",
    "| ** | np.power | Exponentiation |\n",
    "| % | np.mod | Modulus |\n"
   ]
  },
  {
   "cell_type": "markdown",
   "metadata": {},
   "source": [
    "#### Absolute Value\n",
    "\n",
    "Numpy also provides an absolute value function `np.absolute()` or `np.abs()`:"
   ]
  },
  {
   "cell_type": "code",
   "execution_count": 53,
   "metadata": {},
   "outputs": [
    {
     "data": {
      "text/plain": [
       "array([2, 4, 3, 5, 6])"
      ]
     },
     "execution_count": 53,
     "metadata": {},
     "output_type": "execute_result"
    }
   ],
   "source": [
    "a2 = np.array([2, -4, 3, -5, 6])\n",
    "\n",
    "np.abs(a2) # abs(a2)"
   ]
  },
  {
   "cell_type": "markdown",
   "metadata": {},
   "source": [
    "And it works with complex numbers too:"
   ]
  },
  {
   "cell_type": "code",
   "execution_count": 54,
   "metadata": {},
   "outputs": [
    {
     "data": {
      "text/plain": [
       "array([3.60555128, 5.09901951])"
      ]
     },
     "execution_count": 54,
     "metadata": {},
     "output_type": "execute_result"
    }
   ],
   "source": [
    "a3 = np.array([2 + 3j, 1 - 5j])\n",
    "\n",
    "np.abs(a3) # abs(a2)"
   ]
  },
  {
   "cell_type": "markdown",
   "metadata": {},
   "source": [
    "#### Trigonometric Functions\n",
    "\n",
    "Numpy also provides trigonometric functions like `np.sin()`, `np.cos()` amd `np.tan()`:"
   ]
  },
  {
   "cell_type": "code",
   "execution_count": 55,
   "metadata": {},
   "outputs": [
    {
     "name": "stdout",
     "output_type": "stream",
     "text": [
      "angles      = [0.         1.57079633 3.14159265]\n",
      "sin(angles) = [0.0000000e+00 1.0000000e+00 1.2246468e-16]\n",
      "cos(angles) = [ 1.000000e+00  6.123234e-17 -1.000000e+00]\n",
      "tan(angles) = [ 0.00000000e+00  1.63312394e+16 -1.22464680e-16]\n"
     ]
    }
   ],
   "source": [
    "angles = np.linspace(0, np.pi, 3)\n",
    "\n",
    "print(f\"angles      = {angles}\")\n",
    "print(f\"sin(angles) = {np.sin(angles)}\")\n",
    "print(f\"cos(angles) = {np.cos(angles)}\")\n",
    "print(f\"tan(angles) = {np.tan(angles)}\")"
   ]
  },
  {
   "cell_type": "markdown",
   "metadata": {},
   "source": [
    "And also other trigonometric functions, as the inverse functions:"
   ]
  },
  {
   "cell_type": "code",
   "execution_count": 63,
   "metadata": {},
   "outputs": [
    {
     "name": "stdout",
     "output_type": "stream",
     "text": [
      "angles      = [0.  0.5 1. ]\n",
      "arcsin(angles) = [0.         0.52359878 1.57079633]\n",
      "arccos(angles) = [1.57079633 1.04719755 0.        ]\n",
      "arctan(angles) = [0.         0.46364761 0.78539816]\n"
     ]
    }
   ],
   "source": [
    "angles = np.linspace(0, 1, 3)\n",
    "\n",
    "print(f\"angles      = {angles}\")\n",
    "print(f\"arcsin(angles) = {np.arcsin(angles)}\")\n",
    "print(f\"arccos(angles) = {np.arccos(angles)}\")\n",
    "print(f\"arctan(angles) = {np.arctan(angles)}\")"
   ]
  },
  {
   "cell_type": "markdown",
   "metadata": {},
   "source": [
    "#### Exponents and Logarithms\n",
    "\n",
    "Another common operations are the exponentials and the logarithms:"
   ]
  },
  {
   "cell_type": "code",
   "execution_count": 57,
   "metadata": {},
   "outputs": [
    {
     "name": "stdout",
     "output_type": "stream",
     "text": [
      "Exponentials\n",
      "\n",
      "x =   [2 3 7]\n",
      "e^x = [   7.3890561    20.08553692 1096.63315843]\n",
      "2^x = [  4.   8. 128.]\n",
      "3^x = [   9.   27. 2187.]\n",
      "\n",
      "Logarithms\n",
      "\n",
      "x        = [2 3 7]\n",
      "ln(x)    = [0.69314718 1.09861229 1.94591015]\n",
      "log2(x)  = [1.         1.5849625  2.80735492]\n",
      "log3(x)  = [0.63092975 1.         1.77124375]\n",
      "log10(x) = [0.30103    0.47712125 0.84509804]\n"
     ]
    }
   ],
   "source": [
    "x = np.array([2, 3, 7])\n",
    "\n",
    "print(\"Exponentials\\n\")\n",
    "print(f\"x =   {x}\")\n",
    "print(f\"e^x = {np.exp(x)}\")\n",
    "print(f\"2^x = {np.exp2(x)}\")\n",
    "print(f\"3^x = {np.pow(3.0, x)}\")\n",
    "\n",
    "print(\"\\nLogarithms\\n\")\n",
    "print(f\"x        = {x}\")\n",
    "print(f\"ln(x)    = {np.log(x)}\")\n",
    "print(f\"log2(x)  = {np.log2(x)}\")\n",
    "print(f\"log3(x)  = {np.log(x) / np.log(3)}\")\n",
    "print(f\"log10(x) = {np.log10(x)}\")"
   ]
  },
  {
   "cell_type": "markdown",
   "metadata": {},
   "source": [
    "There are also some specialized functions that offers more precision results:"
   ]
  },
  {
   "cell_type": "code",
   "execution_count": 58,
   "metadata": {},
   "outputs": [
    {
     "name": "stdout",
     "output_type": "stream",
     "text": [
      "Specialized Functions\n",
      "\n",
      "x =          [2 3 7]\n",
      "exp(x) - 1 = [   6.3890561    19.08553692 1095.63315843]\n",
      "log(x + 1) = [1.09861229 1.38629436 2.07944154]\n"
     ]
    }
   ],
   "source": [
    "x = np.array([2, 3, 7])\n",
    "\n",
    "print(\"Specialized Functions\\n\")\n",
    "print(f\"x =          {x}\")\n",
    "print(f\"exp(x) - 1 = {np.expm1(x)}\")\n",
    "print(f\"log(x + 1) = {np.log1p(x)}\")"
   ]
  },
  {
   "cell_type": "markdown",
   "metadata": {},
   "source": [
    "### Advanced Ufunc Features\n",
    "\n",
    "Here, we will learning some advanced features of numpy ufuncs.\n",
    "\n",
    "#### Specifying Output\n",
    "\n",
    "Much numpy operations have an output return and you can specify the output for the operations:"
   ]
  },
  {
   "cell_type": "code",
   "execution_count": 59,
   "metadata": {},
   "outputs": [
    {
     "data": {
      "text/plain": [
       "array([0, 2, 4])"
      ]
     },
     "execution_count": 59,
     "metadata": {},
     "output_type": "execute_result"
    }
   ],
   "source": [
    "inp = np.arange(3, dtype = int)\n",
    "out = np.zeros(3, dtype = int)\n",
    "\n",
    "np.multiply(inp, 2, out = out)\n",
    "\n",
    "out"
   ]
  },
  {
   "cell_type": "markdown",
   "metadata": {},
   "source": [
    "For large operations this approach is faster than assing, because assign creates a temporary array and copy it for the output array. But using the approach above the values are computed directly in output array, being more fast.\n",
    "\n",
    "#### Aggregations\n",
    "\n",
    "For binary ufuncs we have *aggregations*, auxiliary functions over ufuncs that are applied over result of the ufunc. For example, we can sum all values of an array with the `.reduce()` function of `np.add()` operation:"
   ]
  },
  {
   "cell_type": "code",
   "execution_count": 60,
   "metadata": {},
   "outputs": [
    {
     "name": "stdout",
     "output_type": "stream",
     "text": [
      "45\n"
     ]
    }
   ],
   "source": [
    "x = np.arange(1, 10)\n",
    "\n",
    "print(np.add.reduce(x))"
   ]
  },
  {
   "cell_type": "markdown",
   "metadata": {},
   "source": [
    "Or, if you want to get the partial accumulative values of the sum you can use the function `.accumulate()` from `np.add()`:"
   ]
  },
  {
   "cell_type": "code",
   "execution_count": 61,
   "metadata": {},
   "outputs": [
    {
     "name": "stdout",
     "output_type": "stream",
     "text": [
      "[ 1  3  6 10 15 21 28 36 45]\n"
     ]
    }
   ],
   "source": [
    "x = np.arange(1, 10)\n",
    "\n",
    "print(np.add.accumulate(x))"
   ]
  },
  {
   "cell_type": "markdown",
   "metadata": {},
   "source": [
    "#### Outer Products\n",
    "\n",
    "Finally, if you want to know the result of all possible pairs of the bynary ufunc, you can use the `.outer()` method of any numpy binary ufunc:"
   ]
  },
  {
   "cell_type": "code",
   "execution_count": 62,
   "metadata": {},
   "outputs": [
    {
     "name": "stdout",
     "output_type": "stream",
     "text": [
      "a = [1 2 3 4]\n",
      "b = [3 4 5 6]\n",
      "a x b =\n",
      "[[ 4  5  6  7]\n",
      " [ 5  6  7  8]\n",
      " [ 6  7  8  9]\n",
      " [ 7  8  9 10]]\n"
     ]
    }
   ],
   "source": [
    "a = np.arange(1, 5)\n",
    "b = np.arange(3, 7)\n",
    "\n",
    "print(f\"a = {a}\")\n",
    "print(f\"b = {b}\")\n",
    "print(f\"a x b =\\n{np.add.outer(a, b)}\")"
   ]
  }
 ],
 "metadata": {
  "kernelspec": {
   "display_name": "Python 3",
   "language": "python",
   "name": "python3"
  },
  "language_info": {
   "codemirror_mode": {
    "name": "ipython",
    "version": 3
   },
   "file_extension": ".py",
   "mimetype": "text/x-python",
   "name": "python",
   "nbconvert_exporter": "python",
   "pygments_lexer": "ipython3",
   "version": "3.13.1"
  }
 },
 "nbformat": 4,
 "nbformat_minor": 2
}
