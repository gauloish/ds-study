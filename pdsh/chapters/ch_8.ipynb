{
 "cells": [
  {
   "cell_type": "markdown",
   "metadata": {},
   "source": [
    "## Computation on Arrays: Broadcasting\n",
    "\n",
    "In this chapter we will discuss *broadcasting*: rules used by NumPy to apply binary operation between arrays with different sizes or shapes.\n",
    "\n",
    "### Introducing Broadcasting\n",
    "\n",
    "In arrays with same size or shape, binary operations are applied element by element:"
   ]
  },
  {
   "cell_type": "code",
   "execution_count": 3,
   "metadata": {},
   "outputs": [
    {
     "name": "stdout",
     "output_type": "stream",
     "text": [
      "[1 2 3 4]\n",
      "[2 3 4 5]\n",
      "[3 5 7 9]\n"
     ]
    }
   ],
   "source": [
    "import numpy as np\n",
    "\n",
    "a = np.arange(1, 5)\n",
    "b = np.arange(2, 6)\n",
    "\n",
    "print(a)\n",
    "print(b)\n",
    "print(a + b)"
   ]
  },
  {
   "cell_type": "markdown",
   "metadata": {},
   "source": [
    "Broadcasting allows apply a binary operation between arrays with different sizes or shapes - for example, add a scalar to an array:"
   ]
  },
  {
   "cell_type": "code",
   "execution_count": 4,
   "metadata": {},
   "outputs": [
    {
     "name": "stdout",
     "output_type": "stream",
     "text": [
      "[1 2 3 4]\n",
      "[5 6 7 8]\n"
     ]
    }
   ],
   "source": [
    "print(a)\n",
    "print(a + 4)"
   ]
  },
  {
   "cell_type": "markdown",
   "metadata": {},
   "source": [
    "Numpy just duplicate the value 4 for each value of `a` and perform the sum, element by element. This idea can be extended for arrays with higher dimension:"
   ]
  },
  {
   "cell_type": "code",
   "execution_count": 7,
   "metadata": {},
   "outputs": [
    {
     "name": "stdout",
     "output_type": "stream",
     "text": [
      "a = [1 2 3 4]\n",
      "\n",
      "m = \n",
      "[[ 0  1  2  3]\n",
      " [ 4  5  6  7]\n",
      " [ 8  9 10 11]]\n",
      "\n",
      "m + a = \n",
      "[[ 1  3  5  7]\n",
      " [ 5  7  9 11]\n",
      " [ 9 11 13 15]]\n"
     ]
    }
   ],
   "source": [
    "m = np.arange(12).reshape((3, 4))\n",
    "\n",
    "print(f\"a = {a}\\n\")\n",
    "print(f\"m = \\n{m}\\n\")\n",
    "print(f\"m + a = \\n{m + a}\")"
   ]
  },
  {
   "cell_type": "markdown",
   "metadata": {},
   "source": [
    "Note that the sum by `a` is applied for each element (line) of `m`. In other words:\n",
    "\n",
    "$$ m + a = [m[0] + a, m[1] + a, \\ldots, m[n] + a] $$\n",
    "\n",
    "Thus, the array is broadcasted across the second dimension for match with shape of `m`. A more complex example is the following:"
   ]
  },
  {
   "cell_type": "code",
   "execution_count": 9,
   "metadata": {},
   "outputs": [
    {
     "name": "stdout",
     "output_type": "stream",
     "text": [
      "a = \n",
      "[0 1 2]\n",
      "\n",
      "b = \n",
      "[[0]\n",
      " [1]\n",
      " [2]]\n",
      "\n",
      "a + b = \n",
      "[[0 1 2]\n",
      " [1 2 3]\n",
      " [2 3 4]]\n",
      "\n"
     ]
    }
   ],
   "source": [
    "a = np.arange(3)\n",
    "b = np.arange(3).reshape((3, 1))\n",
    "\n",
    "print(f\"a = \\n{a}\\n\")\n",
    "print(f\"b = \\n{b}\\n\")\n",
    "print(f\"a + b = \\n{a + b}\\n\")"
   ]
  },
  {
   "cell_type": "markdown",
   "metadata": {},
   "source": [
    "In this case, both `a` and `b` are broadcasted, to both have the same shape.\n",
    "\n",
    "### Rules of Broadcasting\n",
    "\n",
    "Broadcasting in NumPy follows the rules:\n",
    "\n",
    "***Rule 1***\n",
    "- If the two arrays differ in their number of dimensions, the shape of the one with\n",
    "fewer dimensions is padded with ones on its leading (left) side.\n",
    "\n",
    "***Rule 2***\n",
    "- If the shape of the two arrays does not match in any dimension, the array with\n",
    "shape equal to 1 in that dimension is stretched to match the other shape.\n",
    "\n",
    "***Rule 3***\n",
    "- If in any dimension the sizes disagree and neither is equal to 1, an error is raised.\n",
    "\n",
    "#### Example 1\n",
    "\n",
    "Imagine you have the following arrays:"
   ]
  },
  {
   "cell_type": "code",
   "execution_count": 11,
   "metadata": {},
   "outputs": [
    {
     "data": {
      "text/plain": [
       "(array([[1, 1, 1, 1],\n",
       "        [1, 1, 1, 1],\n",
       "        [1, 1, 1, 1]], dtype=int32),\n",
       " array([1, 2, 3, 4], dtype=int32))"
      ]
     },
     "execution_count": 11,
     "metadata": {},
     "output_type": "execute_result"
    }
   ],
   "source": [
    "a = np.ones((3, 4), dtype = np.int32)\n",
    "b = np.arange(1, 5, dtype = np.int32)\n",
    "\n",
    "a, b"
   ]
  },
  {
   "cell_type": "markdown",
   "metadata": {},
   "source": [
    "For sum these two array we can apply the first rule, because the shape differ between the arrays:\n",
    "\n",
    "1. `a` shape remains `(3, 4)`\n",
    "2. `b` shape becomes `(1, 4)`\n",
    "\n",
    "And now, for the second rule we have:\n",
    "\n",
    "3. `a` shape remains `(3, 4)`\n",
    "4. `b` shape becomes `(3, 4)`\n",
    "\n",
    "Now the array `b` is an array composed by 3 arrays of size 4, each being a copy of the array `b` before all broadcasting operations."
   ]
  },
  {
   "cell_type": "code",
   "execution_count": 12,
   "metadata": {},
   "outputs": [
    {
     "data": {
      "text/plain": [
       "array([[2, 3, 4, 5],\n",
       "       [2, 3, 4, 5],\n",
       "       [2, 3, 4, 5]], dtype=int32)"
      ]
     },
     "execution_count": 12,
     "metadata": {},
     "output_type": "execute_result"
    }
   ],
   "source": [
    "a + b"
   ]
  },
  {
   "cell_type": "markdown",
   "metadata": {},
   "source": [
    "#### Example 2\n",
    "\n",
    "Now, let's take a look at this example:"
   ]
  },
  {
   "cell_type": "code",
   "execution_count": 13,
   "metadata": {},
   "outputs": [
    {
     "data": {
      "text/plain": [
       "(array([[4],\n",
       "        [2],\n",
       "        [3],\n",
       "        [1]]),\n",
       " array([1, 2, 3, 4]))"
      ]
     },
     "execution_count": 13,
     "metadata": {},
     "output_type": "execute_result"
    }
   ],
   "source": [
    "a = np.array([4, 2, 3, 1]).reshape((4, 1))\n",
    "b = np.arange(1, 5)\n",
    "\n",
    "a, b"
   ]
  },
  {
   "cell_type": "markdown",
   "metadata": {},
   "source": [
    "For the rule 1, the array `b` must be broadcasted:\n",
    "\n",
    "- `a` shape remains `(4, 1)`\n",
    "- `b` shape becomes `(1, 4)`\n",
    "\n",
    "Now, for the rule 2: both array must be broadcasted:\n",
    "\n",
    "- `a` shape remains `(4, 4)`\n",
    "- `b` shape becomes `(4, 4)`"
   ]
  },
  {
   "cell_type": "code",
   "execution_count": 14,
   "metadata": {},
   "outputs": [
    {
     "data": {
      "text/plain": [
       "array([[5, 6, 7, 8],\n",
       "       [3, 4, 5, 6],\n",
       "       [4, 5, 6, 7],\n",
       "       [2, 3, 4, 5]])"
      ]
     },
     "execution_count": 14,
     "metadata": {},
     "output_type": "execute_result"
    }
   ],
   "source": [
    "a + b"
   ]
  },
  {
   "cell_type": "markdown",
   "metadata": {},
   "source": [
    "#### Example 3\n",
    "\n",
    "The following example:"
   ]
  },
  {
   "cell_type": "code",
   "execution_count": 15,
   "metadata": {},
   "outputs": [
    {
     "data": {
      "text/plain": [
       "(array([[1., 1.],\n",
       "        [1., 1.],\n",
       "        [1., 1.]]),\n",
       " array([0, 1, 2]))"
      ]
     },
     "execution_count": 15,
     "metadata": {},
     "output_type": "execute_result"
    }
   ],
   "source": [
    "a = np.ones((4, 2))\n",
    "b = np.arange(4)\n",
    "\n",
    "a, b"
   ]
  },
  {
   "cell_type": "markdown",
   "metadata": {},
   "source": [
    "For the first rule, `a` must be broadcasted:\n",
    "\n",
    "- `a` shape remains `(4, 2)`\n",
    "- `b` shape becomes `(1, 4)`\n",
    "\n",
    "And for the second rule, we should get a big black cock like this:\n",
    "\n",
    "- `a` shape remains `(4, 2)`\n",
    "- `b` shape becomes `(4, 4)`\n",
    "\n",
    "And for the third rule, the matrices are incompatible.\n",
    "\n",
    "### Broadcasting in Practice\n",
    "\n",
    "We will explore some examples of broadcasting.\n",
    "\n",
    "#### Centering an Array\n",
    "\n",
    "For centering the values of an array with the mean, we can do this:"
   ]
  },
  {
   "cell_type": "code",
   "execution_count": 26,
   "metadata": {},
   "outputs": [
    {
     "data": {
      "text/plain": [
       "array([ 4.75809868e-17, -3.17206578e-17, -2.37904934e-17])"
      ]
     },
     "execution_count": 26,
     "metadata": {},
     "output_type": "execute_result"
    }
   ],
   "source": [
    "x = np.random.random((7, 3))\n",
    "xc = x - x.mean(0)\n",
    "\n",
    "xc.mean(0)"
   ]
  },
  {
   "cell_type": "markdown",
   "metadata": {},
   "source": [
    "#### Plotting a Two-Dimensional Function\n",
    "\n",
    "For plotting an two-dimensional function, we can do this:"
   ]
  },
  {
   "cell_type": "code",
   "execution_count": 15,
   "metadata": {},
   "outputs": [
    {
     "data": {
      "image/png": "[encoded data removed]",
      "text/plain": [
       "<Figure size 640x480 with 2 Axes>"
      ]
     },
     "metadata": {},
     "output_type": "display_data"
    }
   ],
   "source": [
    "import matplotlib.pyplot as plt\n",
    "\n",
    "n = 100\n",
    "\n",
    "x = np.linspace(0, 5, n)\n",
    "y = np.linspace(0, 5, n).reshape((n, 1))\n",
    "\n",
    "z = np.sin(x * y) + np.cos(y - x) ** 2 + y / 2\n",
    "\n",
    "plt.imshow(z, origin = \"lower\", extent = (0, 5, 0, 5))\n",
    "plt.colorbar()\n",
    "\n",
    "plt.show()"
   ]
  }
 ],
 "metadata": {
  "kernelspec": {
   "display_name": "Python 3",
   "language": "python",
   "name": "python3"
  },
  "language_info": {
   "codemirror_mode": {
    "name": "ipython",
    "version": 3
   },
   "file_extension": ".py",
   "mimetype": "text/x-python",
   "name": "python",
   "nbconvert_exporter": "python",
   "pygments_lexer": "ipython3",
   "version": "3.13.1"
  }
 },
 "nbformat": 4,
 "nbformat_minor": 2
}
