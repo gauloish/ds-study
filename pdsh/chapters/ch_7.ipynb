{
 "cells": [
  {
   "cell_type": "markdown",
   "metadata": {},
   "source": [
    "## Aggregations: min, max, and Everything in Between\n",
    "\n",
    "For explore datasets we need apply some functions over it, as sum, mean, median, minimum or maximum, etc. Numpy offers some aggregation functions to do these operations in the arrays, and we will discuss about them.\n",
    "\n",
    "### Summing the Values in an Array\n",
    "\n",
    "For sum the values of array we can use the `np.sum()` function:"
   ]
  },
  {
   "cell_type": "code",
   "execution_count": 9,
   "metadata": {},
   "outputs": [
    {
     "name": "stdout",
     "output_type": "stream",
     "text": [
      "5050\n"
     ]
    }
   ],
   "source": [
    "import numpy as np\n",
    "\n",
    "arr = np.arange(1, 101)\n",
    "\n",
    "print(np.sum(arr)) # 5050"
   ]
  },
  {
   "cell_type": "markdown",
   "metadata": {},
   "source": [
    "The same can be did with the python's `sum()` function, but it is more slow than numpy's function, because the latter is wrote in `C` code and the former is wrote in python code:"
   ]
  },
  {
   "cell_type": "code",
   "execution_count": 3,
   "metadata": {},
   "outputs": [
    {
     "name": "stdout",
     "output_type": "stream",
     "text": [
      "66.8 ms ± 422 μs per loop (mean ± std. dev. of 7 runs, 10 loops each)\n",
      "423 μs ± 2.34 μs per loop (mean ± std. dev. of 7 runs, 1,000 loops each)\n"
     ]
    }
   ],
   "source": [
    "arr = np.arange(1, 1_000_000)\n",
    "\n",
    "%timeit sum(arr)\n",
    "%timeit np.sum(arr)"
   ]
  },
  {
   "cell_type": "markdown",
   "metadata": {},
   "source": [
    "So, whenever possible use the `np.sum()` function.\n",
    "\n",
    "### Minimum and Maximum\n",
    "\n",
    "Numpy also provides aggregations functions to compute maximum and minimum of arrays, the functions `np.min()` and `np.max()`:"
   ]
  },
  {
   "cell_type": "code",
   "execution_count": 12,
   "metadata": {},
   "outputs": [
    {
     "name": "stdout",
     "output_type": "stream",
     "text": [
      "min(arr) = 1\n",
      "max(arr) = 55\n"
     ]
    }
   ],
   "source": [
    "arr = np.arange(1, 55 + 1)\n",
    "\n",
    "print(f\"min(arr) = {np.min(arr)}\") # 1\n",
    "print(f\"max(arr) = {np.max(arr)}\") # 55"
   ]
  },
  {
   "cell_type": "markdown",
   "metadata": {},
   "source": [
    "#### Multidimensional Aggregates\n",
    "\n",
    "One common operation is apply an aggregate function in a single row or column of an array, and the functions above able do this with the `axis` argument:"
   ]
  },
  {
   "cell_type": "code",
   "execution_count": 17,
   "metadata": {},
   "outputs": [
    {
     "name": "stdout",
     "output_type": "stream",
     "text": [
      "mat:\n",
      " [[ 0  1  2  3]\n",
      " [ 4  5  6  7]\n",
      " [ 8  9 10 11]]\n",
      "\n",
      "min(mat) rows:\n",
      " [0 1 2 3]\n",
      "\n",
      "max(mat) cols:\n",
      " [ 3  7 11]\n",
      "\n",
      "sum(mat) cols:\n",
      " [ 6 22 38]\n",
      "\n"
     ]
    }
   ],
   "source": [
    "mat = np.arange(12).reshape(3, 4)\n",
    "\n",
    "print(\"mat:\\n\", mat, end = \"\\n\\n\")\n",
    "print(\"min(mat) cols:\\n\", np.min(mat, axis = 0), end = \"\\n\\n\")\n",
    "print(\"max(mat) rows:\\n\", np.max(mat, axis = 1), end = \"\\n\\n\")\n",
    "print(\"sum(mat) rows:\\n\", np.sum(mat, axis = 1), end = \"\\n\\n\")"
   ]
  },
  {
   "cell_type": "markdown",
   "metadata": {},
   "source": [
    "Here, the `axis` argument specifies the dimension of the array that will bt collapsed by the aggregate function.\n",
    "\n",
    "#### Other Aggregation Functions\n",
    "\n",
    "Numpy provides other aggregation functions, as seen in the list below:\n",
    "\n",
    "| Function name | NaN-safe version | Description\n",
    "| :- | :- | :- |\n",
    "| np.sum | np.nansum | Compute sum of elements |\n",
    "| np.prod | np.nanprod | Compute product of elements |\n",
    "| np.mean | np.nanmean | Compute mean of elements |\n",
    "| np.std | np.nanstd | Compute standard deviation |\n",
    "| np.var | np.nanvar | Compute variance |\n",
    "| np.min | np.nanmin | Find minimum value |\n",
    "| np.max | np.nanmax | Find maximum value |\n",
    "| np.argmin | np.nanargmin | Find index of minimum value |\n",
    "| np.argmax | np.nanargmax | Find index of maximum value |\n",
    "| np.median | np.nanmedian | Compute median of elements |\n",
    "| np.percentile | np.nanpercentile | Compute rank-based statistics of elements |\n",
    "| np.any | N/A | Evaluate whether any elements are true |\n",
    "| np.all | N/A | Evaluate whether all elements are true |"
   ]
  },
  {
   "cell_type": "markdown",
   "metadata": {},
   "source": [
    "### Example: What Is the Average Height of US Presidents?\n",
    "\n",
    "In this example we will apply the knowledges to determine the average height of US presidents. First we load the data set with `pandas`:"
   ]
  },
  {
   "cell_type": "code",
   "execution_count": 20,
   "metadata": {},
   "outputs": [
    {
     "name": "stdout",
     "output_type": "stream",
     "text": [
      "    order                    name  height(cm)\n",
      "0       1       George Washington         189\n",
      "1       2              John Adams         170\n",
      "2       3        Thomas Jefferson         189\n",
      "3       4           James Madison         163\n",
      "4       5            James Monroe         183\n",
      "5       6       John Quincy Adams         171\n",
      "6       7          Andrew Jackson         185\n",
      "7       8        Martin Van Buren         168\n",
      "8       9  William Henry Harrison         173\n",
      "9      10              John Tyler         183\n",
      "10     11           James K. Polk         173\n",
      "11     12          Zachary Taylor         173\n",
      "12     13        Millard Fillmore         175\n",
      "13     14         Franklin Pierce         178\n",
      "14     15          James Buchanan         183\n",
      "15     16         Abraham Lincoln         193\n",
      "16     17          Andrew Johnson         178\n",
      "17     18        Ulysses S. Grant         173\n",
      "18     19     Rutherford B. Hayes         174\n",
      "19     20       James A. Garfield         183\n",
      "20     21       Chester A. Arthur         183\n",
      "21     23       Benjamin Harrison         168\n",
      "22     25        William McKinley         170\n",
      "23     26      Theodore Roosevelt         178\n",
      "24     27     William Howard Taft         182\n",
      "25     28          Woodrow Wilson         180\n",
      "26     29       Warren G. Harding         183\n",
      "27     30         Calvin Coolidge         178\n",
      "28     31          Herbert Hoover         182\n",
      "29     32   Franklin D. Roosevelt         188\n",
      "30     33         Harry S. Truman         175\n",
      "31     34    Dwight D. Eisenhower         179\n",
      "32     35         John F. Kennedy         183\n",
      "33     36       Lyndon B. Johnson         193\n",
      "34     37           Richard Nixon         182\n",
      "35     38             Gerald Ford         183\n",
      "36     39            Jimmy Carter         177\n",
      "37     40           Ronald Reagan         185\n",
      "38     41       George H. W. Bush         188\n",
      "39     42            Bill Clinton         188\n",
      "40     43          George W. Bush         182\n",
      "41     44            Barack Obama         185\n",
      "\n",
      "[189 170 189 163 183 171 185 168 173 183 173 173 175 178 183 193 178 173\n",
      " 174 183 183 168 170 178 182 180 183 178 182 188 175 179 183 193 182 183\n",
      " 177 185 188 188 182 185]\n",
      "\n"
     ]
    }
   ],
   "source": [
    "import numpy as np\n",
    "import pandas as pd\n",
    "\n",
    "data = pd.read_csv(\"../data/president_heights.csv\")\n",
    "heights = np.array(data[\"height(cm)\"])\n",
    "\n",
    "print(data, end = \"\\n\\n\")\n",
    "print(heights, end = \"\\n\\n\")"
   ]
  },
  {
   "cell_type": "markdown",
   "metadata": {},
   "source": [
    "So with the heights we can get some summary statistics:"
   ]
  },
  {
   "cell_type": "code",
   "execution_count": 22,
   "metadata": {},
   "outputs": [
    {
     "name": "stdout",
     "output_type": "stream",
     "text": [
      "Median height:      182.0\n",
      "Mean height:        179.73809523809524\n",
      "Standard deviation: 6.931843442745892\n",
      "Minimum height:     163\n",
      "Maximum height:     193\n"
     ]
    }
   ],
   "source": [
    "print(f\"Mean height:        {heights.mean()}\")\n",
    "print(f\"Standard deviation: {heights.std()}\")\n",
    "print(f\"Minimum height:     {heights.min()}\")\n",
    "print(f\"Maximum height:     {heights.max()}\")"
   ]
  },
  {
   "cell_type": "markdown",
   "metadata": {},
   "source": [
    "And we can also compute quantiles:"
   ]
  },
  {
   "cell_type": "code",
   "execution_count": 23,
   "metadata": {},
   "outputs": [
    {
     "name": "stdout",
     "output_type": "stream",
     "text": [
      "25th percentile: 174.25\n",
      "Median:          182.0\n",
      "75th percentile: 183.0\n"
     ]
    }
   ],
   "source": [
    "print(f\"25th percentile: {np.percentile(heights, 25)}\")\n",
    "print(f\"Median:          {np.median(heights)}\")\n",
    "print(f\"75th percentile: {np.percentile(heights, 75)}\")"
   ]
  },
  {
   "cell_type": "markdown",
   "metadata": {},
   "source": [
    "And for a more visual representation of this data, we can use `matplotlib` library:"
   ]
  },
  {
   "cell_type": "code",
   "execution_count": 27,
   "metadata": {},
   "outputs": [
    {
     "data": {
      "image/png": "[encoded data removed]",
      "text/plain": [
       "<Figure size 640x480 with 1 Axes>"
      ]
     },
     "metadata": {},
     "output_type": "display_data"
    }
   ],
   "source": [
    "import matplotlib.pyplot as plt\n",
    "\n",
    "plt.hist(heights)\n",
    "plt.title('Height Distribution of US Presidents')\n",
    "plt.xlabel('height (cm)')\n",
    "plt.ylabel('number')\n",
    "\n",
    "plt.show()"
   ]
  }
 ],
 "metadata": {
  "kernelspec": {
   "display_name": "Python 3",
   "language": "python",
   "name": "python3"
  },
  "language_info": {
   "codemirror_mode": {
    "name": "ipython",
    "version": 3
   },
   "file_extension": ".py",
   "mimetype": "text/x-python",
   "name": "python",
   "nbconvert_exporter": "python",
   "pygments_lexer": "ipython3",
   "version": "3.13.1"
  }
 },
 "nbformat": 4,
 "nbformat_minor": 2
}
