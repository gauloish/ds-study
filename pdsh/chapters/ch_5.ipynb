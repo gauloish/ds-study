{
 "cells": [
  {
   "cell_type": "markdown",
   "metadata": {},
   "source": [
    "## The Basics of NumPy Arrays\n",
    "\n",
    "We will learn how to manipulate arrays in numpy. There is some categories of array operations:\n",
    "\n",
    "- ***Atributes of arrays***\n",
    "    - Get the size, shape, memory consumption, and data type of arrays\n",
    "- ***Indexing of arrays***\n",
    "    - Get and set elements of array by index\n",
    "- ***Slicing of arrays***\n",
    "    - Get subarrays (slices) of arrays\n",
    "- ***Reshaping of arrays***\n",
    "    - Change the shape of array\n",
    "- ***Joining and splitting of arrays***\n",
    "    - Join multiple arrays in an array and split an array in multiple arrays\n",
    "\n",
    "### NumPy Array Attributes\n",
    "\n",
    "Each array has some attributes:\n",
    "\n",
    "- `ndim`: the number of dimensions\n",
    "- `shape`: the size of each dimension\n",
    "- `size`: the total size of array\n",
    "- `dtype`: the type of each element\n",
    "\n",
    "Below we have some examples:"
   ]
  },
  {
   "cell_type": "code",
   "execution_count": 2,
   "metadata": {},
   "outputs": [
    {
     "name": "stdout",
     "output_type": "stream",
     "text": [
      "array a1:\n",
      "    ndim:  1\n",
      "    shape: (5,)\n",
      "    size:  5\n",
      "    dtype: int64\n",
      "\n",
      "array a2:\n",
      "    ndim:  2\n",
      "    shape: (2, 3)\n",
      "    size:  6\n",
      "    dtype: int64\n",
      "\n",
      "array a3:\n",
      "    ndim:  3\n",
      "    shape: (2, 2, 3)\n",
      "    size:  12\n",
      "    dtype: int64\n",
      "\n"
     ]
    }
   ],
   "source": [
    "import numpy as np\n",
    "\n",
    "def show(a, s):\n",
    "    padding = \"    \"\n",
    "\n",
    "    print(f\"array {s}:\")\n",
    "    print(f\"{padding}ndim:  {a.ndim}\")\n",
    "    print(f\"{padding}shape: {a.shape}\")\n",
    "    print(f\"{padding}size:  {a.size}\")\n",
    "    print(f\"{padding}dtype: {a.dtype}\\n\")\n",
    "\n",
    "rng = np.random.default_rng(seed = 1731)\n",
    "\n",
    "a1 = rng.integers(1, 100, size = 5)\n",
    "a2 = rng.integers(1, 100, size = (2, 3))\n",
    "a3 = rng.integers(1, 100, size = (2, 2, 3))\n",
    "\n",
    "show(a1, \"a1\")\n",
    "show(a2, \"a2\")\n",
    "show(a3, \"a3\")"
   ]
  },
  {
   "cell_type": "markdown",
   "metadata": {},
   "source": [
    "### Array Indexing: Accessing Single Elements\n",
    "\n",
    "Indexing numpy arrays are a quite like indexing python lists. For 1-dimensional arrays we can access elements by indexing from 0, like python lists. For n-dimensional arrays we can access the elements by indexing with tuples. The indices can be negative, inside the limits of array shape:"
   ]
  },
  {
   "cell_type": "code",
   "execution_count": 3,
   "metadata": {},
   "outputs": [
    {
     "name": "stdout",
     "output_type": "stream",
     "text": [
      "array[3]: 0.4579025179741746\n",
      "array:    [0.64334856 0.86606591 0.86294714 0.45790252 0.97962745]\n"
     ]
    }
   ],
   "source": [
    "a4 = np.random.random(5)\n",
    "\n",
    "print(f\"array[3]: {a4[3]}\")\n",
    "print(f\"array:    {a4}\")"
   ]
  },
  {
   "cell_type": "code",
   "execution_count": 4,
   "metadata": {},
   "outputs": [
    {
     "name": "stdout",
     "output_type": "stream",
     "text": [
      "array[1, 3]: 0.823593394777425\n",
      "array:       [[0.95557523 0.79996477 0.86883878 0.78886242 0.43722498]\n",
      " [0.57542341 0.01458253 0.08294641 0.82359339 0.56639378]\n",
      " [0.65451407 0.48355433 0.28935969 0.83420428 0.27029151]]\n"
     ]
    }
   ],
   "source": [
    "a5 = np.random.random((3, 5))\n",
    "\n",
    "print(f\"array[1, 3]: {a5[1, 3]}\")\n",
    "print(f\"array:       {a5}\")"
   ]
  },
  {
   "cell_type": "markdown",
   "metadata": {},
   "source": [
    "You can also modify some element of array:"
   ]
  },
  {
   "cell_type": "code",
   "execution_count": 5,
   "metadata": {},
   "outputs": [
    {
     "name": "stdout",
     "output_type": "stream",
     "text": [
      "array[-2, 4]: 0.69696969\n",
      "array:        [[0.60435635 0.89830075 0.02494014 0.15187561 0.45058153 0.62162825]\n",
      " [0.2538858  0.19201505 0.67162812 0.56846515 0.72533532 0.78118706]\n",
      " [0.69896275 0.86582748 0.72200263 0.88633267 0.57593745 0.86028831]\n",
      " [0.42160123 0.17644462 0.87042408 0.79512286 0.69696969 0.94165777]\n",
      " [0.96262045 0.91463397 0.82083076 0.09821395 0.34281215 0.39272947]]\n"
     ]
    }
   ],
   "source": [
    "a6 = np.random.random((5, 6))\n",
    "\n",
    "a6[-2, 4] = 0.69696969\n",
    "\n",
    "print(f\"array[-2, 4]: {a6[-2, 4]}\")\n",
    "print(f\"array:        {a6}\")"
   ]
  },
  {
   "cell_type": "markdown",
   "metadata": {},
   "source": [
    "But remember, numpy array have fixed types. Thus, values passed for array elements will be converted to array type (if possible):"
   ]
  },
  {
   "cell_type": "code",
   "execution_count": 6,
   "metadata": {},
   "outputs": [
    {
     "name": "stdout",
     "output_type": "stream",
     "text": [
      "array[3]: 1\n",
      "array:    [1 3 5 1 8]\n"
     ]
    }
   ],
   "source": [
    "a7 = np.array([1, 3, 5, 6, 8], dtype = int)\n",
    "\n",
    "a7[3] = 1.69696969\n",
    "\n",
    "print(f\"array[3]: {a7[3]}\")\n",
    "print(f\"array:    {a7}\")"
   ]
  },
  {
   "cell_type": "markdown",
   "metadata": {},
   "source": [
    "### Array Slicing: Accessing Subarrays\n",
    "\n",
    "Numpy arrays can sliced like python lists whit slices like `array[a:b:k]`.\n",
    "\n",
    "#### One-Dimensional Subarrays\n",
    "\n",
    "Here are how slice in 1-D arrays:"
   ]
  },
  {
   "cell_type": "code",
   "execution_count": 7,
   "metadata": {},
   "outputs": [
    {
     "name": "stdout",
     "output_type": "stream",
     "text": [
      "a8 = [ 2  5  3 -7 -2  9 -6]\n",
      "a8[:] = [ 2  5  3 -7 -2  9 -6]\n",
      "a8[:5] = [ 2  5  3 -7 -2]\n",
      "a8[2:] = [ 3 -7 -2  9 -6]\n",
      "a8[2:5] = [ 3 -7 -2]\n",
      "a8[2:5:2] = [ 3 -2]\n",
      "a8[::2] = [ 2  3 -2 -6]\n",
      "a8[1::3] = [ 5 -2]\n"
     ]
    }
   ],
   "source": [
    "a8 = np.array([2, 5, 3, -7, -2, 9, -6])\n",
    "\n",
    "print(f\"a8 = {a8}\")\n",
    "print(f\"a8[:] = {a8[:]}\")\n",
    "print(f\"a8[:5] = {a8[:5]}\")\n",
    "print(f\"a8[2:] = {a8[2:]}\")\n",
    "print(f\"a8[2:5] = {a8[2:5]}\")\n",
    "print(f\"a8[2:5:2] = {a8[2:5:2]}\")\n",
    "print(f\"a8[::2] = {a8[::2]}\")\n",
    "print(f\"a8[1::3] = {a8[1::3]}\")"
   ]
  },
  {
   "cell_type": "markdown",
   "metadata": {},
   "source": [
    "When step is negative, the start and end of slice are swapped `array[b:a:k]`:"
   ]
  },
  {
   "cell_type": "code",
   "execution_count": 8,
   "metadata": {},
   "outputs": [
    {
     "name": "stdout",
     "output_type": "stream",
     "text": [
      "a9[::-1] = [-6  9 -2 -7  3  5  2]\n",
      "a9[:5:-2] = [-6]\n",
      "a9[2::-1] = [3 5 2]\n",
      "a9[2:5:-2] = []\n"
     ]
    }
   ],
   "source": [
    "a9 = np.array([2, 5, 3, -7, -2, 9, -6])\n",
    "\n",
    "print(f\"a9[::-1] = {a9[::-1]}\")\n",
    "print(f\"a9[:5:-2] = {a9[:5:-2]}\")\n",
    "print(f\"a9[2::-1] = {a9[2::-1]}\")\n",
    "print(f\"a9[2:5:-2] = {a9[2:5:-2]}\")"
   ]
  },
  {
   "cell_type": "markdown",
   "metadata": {},
   "source": [
    "#### Multidimensional Subarrays\n",
    "\n",
    "With multidimensional arrays we can do the same, but with each slice separated by comma:"
   ]
  },
  {
   "cell_type": "code",
   "execution_count": 9,
   "metadata": {},
   "outputs": [
    {
     "name": "stdout",
     "output_type": "stream",
     "text": [
      "[[0.78355497 0.46642727 0.30737269 0.94773739 0.05134401]\n",
      " [0.0369701  0.41073016 0.47439989 0.25708179 0.96245508]\n",
      " [0.88755064 0.81103915 0.24614988 0.63685676 0.64149702]\n",
      " [0.62697936 0.27661161 0.42342655 0.67555409 0.75880272]]\n",
      "\n",
      "[[0.0369701  0.47439989 0.96245508]\n",
      " [0.88755064 0.24614988 0.64149702]]\n"
     ]
    }
   ],
   "source": [
    "a10 = np.random.random((4, 5))\n",
    "\n",
    "print(f\"{a10}\\n\")\n",
    "print(f\"{a10[1:3, ::2]}\")"
   ]
  },
  {
   "cell_type": "markdown",
   "metadata": {},
   "source": [
    "With that, we can access single rows or columns (or any axes of `ndarray`). For access the thirty columns of `a10` we can do:"
   ]
  },
  {
   "cell_type": "code",
   "execution_count": 10,
   "metadata": {},
   "outputs": [
    {
     "name": "stdout",
     "output_type": "stream",
     "text": [
      "column[2] = [0.30737269 0.47439989 0.24614988 0.42342655]\n"
     ]
    }
   ],
   "source": [
    "print(f\"column[2] = {a10[:, 2]}\")"
   ]
  },
  {
   "cell_type": "markdown",
   "metadata": {},
   "source": [
    "And to access the first line we can do:"
   ]
  },
  {
   "cell_type": "code",
   "execution_count": 11,
   "metadata": {},
   "outputs": [
    {
     "name": "stdout",
     "output_type": "stream",
     "text": [
      "[0.78355497 0.46642727 0.30737269 0.94773739 0.05134401]\n"
     ]
    }
   ],
   "source": [
    "print(f\"{a10[0, :]}\")"
   ]
  },
  {
   "cell_type": "markdown",
   "metadata": {},
   "source": [
    "#### Subarrays as No-Copy Views\n",
    "\n",
    "Unlike python lists, numpy arrays slices return *views* and not copies of array data. In other words, slices return by reference and not by value, therefore the elements in slice are the same that in the original array, change the slice elements change the array elements:"
   ]
  },
  {
   "cell_type": "code",
   "execution_count": 12,
   "metadata": {},
   "outputs": [
    {
     "name": "stdout",
     "output_type": "stream",
     "text": [
      "[[30 41 45]\n",
      " [20 48 68]]\n",
      "\n",
      "[[41 45]\n",
      " [48 68]]\n",
      "\n",
      "[[30 41 58]\n",
      " [20 48 68]]\n",
      "\n",
      "[[41 58]\n",
      " [48 68]]\n",
      "\n"
     ]
    }
   ],
   "source": [
    "a11 = np.random.randint(1, 100, (2, 3))\n",
    "\n",
    "s = a11[:, 1:]\n",
    "\n",
    "print(f\"{a11}\\n\")\n",
    "print(f\"{s}\\n\")\n",
    "\n",
    "s[0, 1] += 13\n",
    "\n",
    "print(f\"{a11}\\n\")\n",
    "print(f\"{s}\\n\")"
   ]
  },
  {
   "cell_type": "markdown",
   "metadata": {},
   "source": [
    "#### Creating Copies of Arrays\n",
    "\n",
    "For create copies of numpy array slices just use the `.copy()` method:"
   ]
  },
  {
   "cell_type": "code",
   "execution_count": 13,
   "metadata": {},
   "outputs": [
    {
     "name": "stdout",
     "output_type": "stream",
     "text": [
      "[[80 11 11]\n",
      " [33 23 44]]\n",
      "\n",
      "[[11 11]\n",
      " [23 44]]\n",
      "\n",
      "[[80 11 11]\n",
      " [33 23 44]]\n",
      "\n",
      "[[11 24]\n",
      " [23 44]]\n",
      "\n"
     ]
    }
   ],
   "source": [
    "a12 = np.random.randint(1, 100, (2, 3))\n",
    "\n",
    "s = a12[:, 1:].copy()\n",
    "\n",
    "print(f\"{a12}\\n\")\n",
    "print(f\"{s}\\n\")\n",
    "\n",
    "s[0, 1] += 13\n",
    "\n",
    "print(f\"{a12}\\n\")\n",
    "print(f\"{s}\\n\")"
   ]
  },
  {
   "cell_type": "markdown",
   "metadata": {},
   "source": [
    "### Reshaping of Arrays\n",
    "\n",
    "If you want to reorganize the elements of the array in other shape, we can use the `.reshape()` method:"
   ]
  },
  {
   "cell_type": "code",
   "execution_count": 14,
   "metadata": {},
   "outputs": [
    {
     "name": "stdout",
     "output_type": "stream",
     "text": [
      "[[0.57470726 0.71342292]\n",
      " [0.18606574 0.08955998]]\n",
      "\n",
      "[[0.57470726 0.71342292 0.18606574 0.08955998]]\n",
      "\n",
      "[[0.57470726]\n",
      " [0.71342292]\n",
      " [0.18606574]\n",
      " [0.08955998]]\n",
      "\n"
     ]
    }
   ],
   "source": [
    "a13 = np.random.random((2, 2))\n",
    "\n",
    "print(a13, end = \"\\n\\n\")\n",
    "print(a13.reshape(1, 4), end = \"\\n\\n\")\n",
    "print(a13.reshape(4, 1), end = \"\\n\\n\")"
   ]
  },
  {
   "cell_type": "markdown",
   "metadata": {},
   "source": [
    "Note that the size of the new shape must be the same of the original shape. Furthermore, the `.reshape()` method return a view of the original array:"
   ]
  },
  {
   "cell_type": "code",
   "execution_count": 15,
   "metadata": {},
   "outputs": [
    {
     "name": "stdout",
     "output_type": "stream",
     "text": [
      "[[0.91977752 0.87334046]\n",
      " [0.82286855 0.51840243]]\n",
      "\n",
      "[[ 0.91977752 10.87334046]\n",
      " [ 0.82286855  0.51840243]]\n"
     ]
    }
   ],
   "source": [
    "a14 = np.random.random((2, 2))\n",
    "\n",
    "print(a14, end = \"\\n\\n\")\n",
    "\n",
    "sh1 = a14.reshape(1, 4)\n",
    "sh1[0, 1] += 10\n",
    "\n",
    "print(a14)"
   ]
  },
  {
   "cell_type": "markdown",
   "metadata": {},
   "source": [
    "You can change the shape of array assign the array with the returned value of `.reshape()` method:"
   ]
  },
  {
   "cell_type": "code",
   "execution_count": 16,
   "metadata": {},
   "outputs": [
    {
     "name": "stdout",
     "output_type": "stream",
     "text": [
      "[[0.16408143 0.42464445]\n",
      " [0.54176935 0.79035051]]\n",
      "\n",
      "[[0.57470726 0.71342292 0.18606574 0.08955998]]\n",
      "\n"
     ]
    }
   ],
   "source": [
    "a15 = np.random.random((2, 2))\n",
    "print(a15, end = \"\\n\\n\")\n",
    "a15 = a13.reshape(1, 4)\n",
    "print(a15, end = \"\\n\\n\")"
   ]
  },
  {
   "cell_type": "markdown",
   "metadata": {},
   "source": [
    "And it's possible turn a 1-d array in n-d array with the `.reshape()` method:"
   ]
  },
  {
   "cell_type": "code",
   "execution_count": 17,
   "metadata": {},
   "outputs": [
    {
     "name": "stdout",
     "output_type": "stream",
     "text": [
      "[0.82807672 0.4028885  0.46361425 0.81546601 0.03774524 0.92579824\n",
      " 0.42612787 0.61984888 0.83274655 0.19027957 0.83314739 0.36410073]\n",
      "\n",
      "[[0.82807672 0.4028885  0.46361425 0.81546601]\n",
      " [0.03774524 0.92579824 0.42612787 0.61984888]\n",
      " [0.83274655 0.19027957 0.83314739 0.36410073]]\n",
      "\n",
      "[[0.82807672 0.4028885  0.46361425]\n",
      " [0.81546601 0.03774524 0.92579824]\n",
      " [0.42612787 0.61984888 0.83274655]\n",
      " [0.19027957 0.83314739 0.36410073]]\n",
      "\n"
     ]
    }
   ],
   "source": [
    "a16 = np.random.random(12)\n",
    "\n",
    "print(a16, end = \"\\n\\n\")\n",
    "a16 = a16.reshape(3, 4)\n",
    "print(a16, end = \"\\n\\n\")\n",
    "a16 = a16.reshape(4, 3)\n",
    "print(a16, end = \"\\n\\n\")"
   ]
  },
  {
   "cell_type": "markdown",
   "metadata": {},
   "source": [
    "For turn a line array in a column array we can use `np.newaxis`:"
   ]
  },
  {
   "cell_type": "code",
   "execution_count": 18,
   "metadata": {},
   "outputs": [
    {
     "name": "stdout",
     "output_type": "stream",
     "text": [
      "[0.54860336 0.60770906 0.37772673 0.2782246  0.05226788]\n",
      "\n",
      "[[0.54860336]\n",
      " [0.60770906]\n",
      " [0.37772673]\n",
      " [0.2782246 ]\n",
      " [0.05226788]]\n",
      "\n",
      "[[0.54860336 0.60770906 0.37772673 0.2782246  0.05226788]]\n",
      "\n"
     ]
    }
   ],
   "source": [
    "a17 = np.random.random(5)\n",
    "\n",
    "print(a17, end = \"\\n\\n\")\n",
    "print(a17[:, np.newaxis], end = \"\\n\\n\")\n",
    "print(a17[np.newaxis, :], end = \"\\n\\n\")"
   ]
  },
  {
   "cell_type": "markdown",
   "metadata": {},
   "source": [
    "### Array Concatenation and Splitting\n",
    "\n",
    "In this section we will learn how to concatenate and split arrays in numpy.\n",
    "\n",
    "#### Concatenation of Arrays\n",
    "\n",
    "We can concatenate multiple array in one array, using the methods `np.concatenate()`, `np.vstack()` and `np.hstack()`:"
   ]
  },
  {
   "cell_type": "code",
   "execution_count": 19,
   "metadata": {},
   "outputs": [
    {
     "name": "stdout",
     "output_type": "stream",
     "text": [
      "a18 =             [91 51 30]\n",
      "a19 =             [11 91]\n",
      "a20 =             [97 10 47 86]\n",
      "[a18, a19] =      [91 51 30 11 91]\n",
      "[a18, a20, a19] = [91 51 30 97 10 47 86 11 91]\n"
     ]
    }
   ],
   "source": [
    "a18 = np.random.randint(1, 100, 3)\n",
    "a19 = np.random.randint(1, 100, 2)\n",
    "a20 = np.random.randint(1, 100, 4)\n",
    "\n",
    "print(f\"a18 =             {a18}\")\n",
    "print(f\"a19 =             {a19}\")\n",
    "print(f\"a20 =             {a20}\")\n",
    "print(f\"[a18, a19] =      {np.concatenate([a18, a19])}\")\n",
    "print(f\"[a18, a20, a19] = {np.concatenate([a18, a20, a19])}\")"
   ]
  },
  {
   "cell_type": "code",
   "execution_count": 20,
   "metadata": {},
   "outputs": [
    {
     "name": "stdout",
     "output_type": "stream",
     "text": [
      "a21 = \n",
      "[[0.70300477 0.21354016 0.7252355 ]\n",
      " [0.2039723  0.1058523  0.63953936]]\n",
      "\n",
      "a22 = \n",
      "[0.28085931 0.93455537 0.70246915]\n",
      "\n",
      "a23 = \n",
      "[[0.22114955]\n",
      " [0.46099112]]\n",
      "\n",
      "[a21, a22] = \n",
      "[[0.70300477 0.21354016 0.7252355 ]\n",
      " [0.2039723  0.1058523  0.63953936]\n",
      " [0.28085931 0.93455537 0.70246915]]\n",
      "\n",
      "[a21, a23] = \n",
      "[[0.70300477 0.21354016 0.7252355  0.22114955]\n",
      " [0.2039723  0.1058523  0.63953936 0.46099112]]\n",
      "\n"
     ]
    }
   ],
   "source": [
    "a21 = np.random.random((2, 3))\n",
    "a22 = np.random.random(3)\n",
    "a23 = np.random.random((2, 1))\n",
    "\n",
    "print(f\"a21 = \\n{a21}\\n\")\n",
    "print(f\"a22 = \\n{a22}\\n\")\n",
    "print(f\"a23 = \\n{a23}\\n\")\n",
    "print(f\"[a21, a22] = \\n{np.vstack([a21, a22])}\\n\")\n",
    "print(f\"[a21, a23] = \\n{np.hstack([a21, a23])}\\n\")"
   ]
  },
  {
   "cell_type": "markdown",
   "metadata": {},
   "source": [
    "#### Splitting of Arrays\n",
    "\n",
    "For split arrays we can use the `np.split()`, `np.hsplit()` and `np.vsplit()`:"
   ]
  },
  {
   "cell_type": "code",
   "execution_count": 21,
   "metadata": {},
   "outputs": [
    {
     "name": "stdout",
     "output_type": "stream",
     "text": [
      "[0.64713693 0.02493865 0.69628529 0.7177224  0.6375164  0.62229651\n",
      " 0.33222002 0.02536718 0.17408306 0.17840802]\n",
      "\n",
      "[0.64713693 0.02493865 0.69628529]\n",
      "\n",
      "[0.7177224  0.6375164  0.62229651 0.33222002]\n",
      "\n",
      "[0.02536718 0.17408306 0.17840802]\n",
      "\n"
     ]
    }
   ],
   "source": [
    "a24 = np.random.random(10)\n",
    "\n",
    "a25, a26, a27 = np.split(a24, [3, 7])\n",
    "\n",
    "print(a24, end=\"\\n\\n\")\n",
    "print(a25, end=\"\\n\\n\")\n",
    "print(a26, end=\"\\n\\n\")\n",
    "print(a27, end=\"\\n\\n\")"
   ]
  },
  {
   "cell_type": "code",
   "execution_count": 22,
   "metadata": {},
   "outputs": [
    {
     "name": "stdout",
     "output_type": "stream",
     "text": [
      "[0.64713693 0.02493865 0.69628529 0.7177224 ]\n",
      "\n",
      "[0.6375164  0.62229651 0.33222002 0.02536718 0.17408306 0.17840802]\n",
      "\n"
     ]
    }
   ],
   "source": [
    "a28, a29 = np.split(a24, [4])\n",
    "\n",
    "print(a28, end = \"\\n\\n\")\n",
    "print(a29, end = \"\\n\\n\")"
   ]
  },
  {
   "cell_type": "code",
   "execution_count": 25,
   "metadata": {},
   "outputs": [
    {
     "name": "stdout",
     "output_type": "stream",
     "text": [
      "[[ 0  1  2  3  4]\n",
      " [ 5  6  7  8  9]\n",
      " [10 11 12 13 14]\n",
      " [15 16 17 18 19]]\n",
      "\n",
      "[[ 0  1]\n",
      " [ 5  6]\n",
      " [10 11]\n",
      " [15 16]]\n",
      "---\n",
      "[[ 2  3  4]\n",
      " [ 7  8  9]\n",
      " [12 13 14]\n",
      " [17 18 19]]\n",
      "\n",
      "[[ 0  1  2  3  4]\n",
      " [ 5  6  7  8  9]\n",
      " [10 11 12 13 14]]\n",
      "---\n",
      "[[15 16 17 18 19]]\n",
      "\n"
     ]
    }
   ],
   "source": [
    "a30 = np.arange(20).reshape(4, 5)\n",
    "\n",
    "a31, a32 = np.hsplit(a30, [2])\n",
    "a33, a34 = np.vsplit(a30, [3])\n",
    "\n",
    "print(a30, end = \"\\n\\n\")\n",
    "print(a31, a32, sep = \"\\n---\\n\", end = \"\\n\\n\")\n",
    "print(a33, a34, sep = \"\\n---\\n\", end = \"\\n\\n\")"
   ]
  }
 ],
 "metadata": {
  "kernelspec": {
   "display_name": "Python 3",
   "language": "python",
   "name": "python3"
  },
  "language_info": {
   "codemirror_mode": {
    "name": "ipython",
    "version": 3
   },
   "file_extension": ".py",
   "mimetype": "text/x-python",
   "name": "python",
   "nbconvert_exporter": "python",
   "pygments_lexer": "ipython3",
   "version": "3.13.1"
  }
 },
 "nbformat": 4,
 "nbformat_minor": 2
}
